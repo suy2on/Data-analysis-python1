{
 "cells": [
  {
   "cell_type": "markdown",
   "metadata": {},
   "source": [
    "# 서울의 기온이 가장 높았던 날은 언제일까?"
   ]
  },
  {
   "cell_type": "code",
   "execution_count": 1,
   "metadata": {},
   "outputs": [
    {
     "name": "stdout",
     "output_type": "stream",
     "text": [
      "기상 관측 이래 서울의 최고 기온이 가장 높았던 날은 2018-08-01 로 39.6 도 였습니다.\n"
     ]
    }
   ],
   "source": [
    "import csv\n",
    "max_temp=-999\n",
    "max_date=''  #빈 문자열로 초기화\n",
    "\n",
    "f=open('seoul.csv')\n",
    "data=csv.reader(f)\n",
    "header=next(data)\n",
    "for row in data:\n",
    "    if row[-1]=='':\n",
    "        row[-1]=-999 #데이터가 없는경우는 -999로 해서 무시하게 해주자\n",
    "    row[-1]=float(row[-1])#문자열을 실수형으로 변환해서 저장\n",
    "    \n",
    "    if max_temp<row[-1]:\n",
    "        max_date=row[0]\n",
    "        max_temp=row[-1]\n",
    "f.close()\n",
    "\n",
    "print('기상 관측 이래 서울의 최고 기온이 가장 높았던 날은', max_date,'로',max_temp,'도 였습니다.')\n"
   ]
  }
 ],
 "metadata": {
  "kernelspec": {
   "display_name": "Python 3",
   "language": "python",
   "name": "python3"
  },
  "language_info": {
   "codemirror_mode": {
    "name": "ipython",
    "version": 3
   },
   "file_extension": ".py",
   "mimetype": "text/x-python",
   "name": "python",
   "nbconvert_exporter": "python",
   "pygments_lexer": "ipython3",
   "version": "3.7.6"
  }
 },
 "nbformat": 4,
 "nbformat_minor": 4
}
